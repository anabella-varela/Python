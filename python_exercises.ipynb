{
 "cells": [
  {
   "cell_type": "markdown",
   "metadata": {},
   "source": [
    "\n",
    "\n",
    "# ![Python](https://img.shields.io/badge/python-3670A0?style=for-the-badge&logo=python&logoColor=ffdd54) exercices"
   ]
  },
  {
   "cell_type": "code",
   "execution_count": 14,
   "metadata": {},
   "outputs": [],
   "source": [
    "def BinaryNumber(number):\n",
    "    '''\n",
    "    This function receives an integer greater than or equal to zero as a parameter and returns its binary representation as a interger. \n",
    "    It must receive and return a value of integer type.\n",
    "    If the parameter is not of integer type and is greater than -1, the function returns null (None in Python).\n",
    "    '''\n",
    "    remainders = \"\" # Initialize an empty string to store the remainders of successive divisions of the decimal number. \n",
    "    \n",
    "    if type(number) != int or number < 0:   # Check if the input number is a positive integer, and if not, return None.\n",
    "        return None\n",
    "    \n",
    "    while number > 0:  # Enter into the loop while the input number is greater than 0 (divisible by 2).\n",
    "        remainder = number % 2  # Calculate the remainder when the number is divided by 2 (binary digit: either 0 or 1).\n",
    "        remainders = str(remainder) + remainders  # Add the calculated remainder to the left of the previous remainders.\n",
    "        number //= 2  # Integer divide the number by 2 to get the quotient for the next iteration.\n",
    "    \n",
    "    return int(remainders)  # Convert the binary representation (as a string) back to an integer and return the result.\n",
    "\n"
   ]
  },
  {
   "cell_type": "code",
   "execution_count": 15,
   "metadata": {},
   "outputs": [
    {
     "data": {
      "text/plain": [
       "11101"
      ]
     },
     "execution_count": 15,
     "metadata": {},
     "output_type": "execute_result"
    }
   ],
   "source": [
    "BinaryString(29)"
   ]
  },
  {
   "cell_type": "code",
   "execution_count": 6,
   "metadata": {},
   "outputs": [],
   "source": [
    "def float_to_binary(number):\n",
    "    '''\n",
    "    This function receives a positive float number as a parameter and returns its binary representation. \n",
    "    If the parameter is not a float type and is lower than 0, the function returns None.\n",
    "    '''\n",
    "\n",
    "    if type(number) != float:\n",
    "        print(\"The input must be a float number\")\n",
    "        return None\n",
    "    if number < 0:\n",
    "        print(\"The input must be positive\")\n",
    "        return None\n",
    "    else:\n",
    "        binary = \"0.\"\n",
    "        x = number \n",
    "        fractional_part_x = 0\n",
    "\n",
    "        while x != 0.00 :\n",
    "            x *= 2 \n",
    "            fractional_part_x = x % 1\n",
    "            interger_part_x = int(x - fractional_part_x)\n",
    "            binary += str(interger_part_x)\n",
    "            x = fractional_part_x\n",
    "    \n",
    "    print (f\"The float number {number} in binary representation equals to:\")  \n",
    "    return binary\n"
   ]
  },
  {
   "cell_type": "code",
   "execution_count": 7,
   "metadata": {},
   "outputs": [
    {
     "name": "stdout",
     "output_type": "stream",
     "text": [
      "The float number 0.2 in binary representation equals to:\n"
     ]
    },
    {
     "data": {
      "text/plain": [
       "'0.001100110011001100110011001100110011001100110011001101'"
      ]
     },
     "execution_count": 7,
     "metadata": {},
     "output_type": "execute_result"
    }
   ],
   "source": [
    "float_to_binary(1/5)"
   ]
  }
 ],
 "metadata": {
  "kernelspec": {
   "display_name": "Python 3",
   "language": "python",
   "name": "python3"
  },
  "language_info": {
   "codemirror_mode": {
    "name": "ipython",
    "version": 3
   },
   "file_extension": ".py",
   "mimetype": "text/x-python",
   "name": "python",
   "nbconvert_exporter": "python",
   "pygments_lexer": "ipython3",
   "version": "3.10.11"
  },
  "orig_nbformat": 4
 },
 "nbformat": 4,
 "nbformat_minor": 2
}
