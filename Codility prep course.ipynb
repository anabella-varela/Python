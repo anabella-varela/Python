{
 "cells": [
  {
   "cell_type": "markdown",
   "metadata": {},
   "source": [
    "# __Codility Lessons__\n",
    "## Lesson 1 Iterations\n",
    "## Binary gap: Find longest sequence of zeros in binary representation of an integer.\n",
    "A binary gap within a positive integer N is any maximal sequence of consecutive zeros that is surrounded by ones at both ends in the binary representation of N.\n",
    "\n",
    "For example, number 9 has binary representation 1001 and contains a binary gap of length 2. The number 529 has binary representation 1000010001 and contains two binary gaps: one of length 4 and one of length 3. The number 20 has binary representation 10100 and contains one binary gap of length 1. The number 15 has binary representation 1111 and has no binary gaps. The number 32 has binary representation 100000 and has no binary gaps.\n",
    "\n",
    "Write a function:\n",
    "\n",
    "def solution(N)\n",
    "\n",
    "that, given a positive integer N, returns the length of its longest binary gap. The function should return 0 if N doesn't contain a binary gap.\n",
    "\n",
    "For example, given N = 1041 the function should return 5, because N has binary representation 10000010001 and so its longest binary gap is of length 5. Given N = 32 the function should return 0, because N has binary representation '100000' and thus no binary gaps.\n",
    "\n",
    "Write an efficient algorithm for the following assumptions:\n",
    "\n",
    "N is an integer within the range [1..2,147,483,647]."
   ]
  },
  {
   "cell_type": "code",
   "execution_count": 27,
   "metadata": {},
   "outputs": [],
   "source": [
    "def solution(N):\n",
    "    # Convert N to binary representation and remove the '0b' prefix\n",
    "    binary_representation = bin(N)[2:] \n",
    "    # Split the binary representation into a list of '1's separated by '0's\n",
    "    binary_gaps = binary_representation.split('1')\n",
    "    binary_gaps = binary_gaps [1:-1]\n",
    "    # Filter out empty strings resulting from leading or trailing '1's\n",
    "    binary_gaps = [gap for gap in binary_gaps if gap]\n",
    "    if binary_gaps:\n",
    "        return max(len(gap) for gap in binary_gaps)\n",
    "    return 0\n",
    "\n",
    "    pass"
   ]
  },
  {
   "cell_type": "code",
   "execution_count": 28,
   "metadata": {},
   "outputs": [
    {
     "name": "stdout",
     "output_type": "stream",
     "text": [
      "0\n"
     ]
    }
   ],
   "source": [
    "print(solution(32))"
   ]
  },
  {
   "cell_type": "markdown",
   "metadata": {},
   "source": [
    "## Lesson 2: Arrays\n",
    "## CyclicRotation\n",
    "An array A consisting of N integers is given. Rotation of the array means that each element is shifted right by one index, and the last element of the array is moved to the first place. For example, the rotation of array A = [3, 8, 9, 7, 6] is [6, 3, 8, 9, 7] (elements are shifted right by one index and 6 is moved to the first place).\n",
    "\n",
    "The goal is to rotate array A K times; that is, each element of A will be shifted to the right K times.\n",
    "\n",
    "Write a function:\n",
    "\n",
    "def solution(A, K)\n",
    "\n",
    "that, given an array A consisting of N integers and an integer K, returns the array A rotated K times.\n",
    "\n",
    "For example, given\n",
    "\n",
    "    A = [3, 8, 9, 7, 6]\n",
    "    K = 3\n",
    "the function should return [9, 7, 6, 3, 8]. Three rotations were made:\n",
    "\n",
    "    [3, 8, 9, 7, 6] -> [6, 3, 8, 9, 7]\n",
    "    [6, 3, 8, 9, 7] -> [7, 6, 3, 8, 9]\n",
    "    [7, 6, 3, 8, 9] -> [9, 7, 6, 3, 8]\n",
    "For another example, given\n",
    "\n",
    "    A = [0, 0, 0]\n",
    "    K = 1\n",
    "the function should return [0, 0, 0]\n",
    "\n",
    "Given\n",
    "\n",
    "    A = [1, 2, 3, 4]\n",
    "    K = 4\n",
    "the function should return [1, 2, 3, 4]\n",
    "\n",
    "Assume that:\n",
    "\n",
    "N and K are integers within the range [0..100];\n",
    "each element of array A is an integer within the range [−1,000..1,000]."
   ]
  },
  {
   "cell_type": "code",
   "execution_count": 67,
   "metadata": {},
   "outputs": [],
   "source": [
    "def solution(A, K):\n",
    "    # If all values of the array are 0 return A\n",
    "    # If the times to rotate (K) == to lenght of A; return A \n",
    "    \n",
    "    N = len(A)\n",
    "    if all ( value==0 for value in A) or K % N == 0:\n",
    "        return A\n",
    "\n",
    "    while K > N:\n",
    "        K = K % N\n",
    "    \n",
    "    return A[-K:] + A[:-K]\n",
    "    pass"
   ]
  },
  {
   "cell_type": "code",
   "execution_count": 70,
   "metadata": {},
   "outputs": [
    {
     "name": "stdout",
     "output_type": "stream",
     "text": [
      "[6, 3, 8, 9, 7]\n"
     ]
    }
   ],
   "source": [
    "A = [3, 8, 9, 7, 6]\n",
    "K = 11\n",
    "print(solution(A,K))"
   ]
  },
  {
   "cell_type": "markdown",
   "metadata": {},
   "source": [
    "## OddOccurrencesInArray\n",
    "A non-empty array A consisting of N integers is given. The array contains an odd number of elements, and each element of the array can be paired with another element that has the same value, except for one element that is left unpaired.\n",
    "\n",
    "For example, in array A such that:\n",
    "\n",
    "  A[0] = 9  A[1] = 3  A[2] = 9\n",
    "  A[3] = 3  A[4] = 9  A[5] = 7\n",
    "  A[6] = 9\n",
    "the elements at indexes 0 and 2 have value 9,\n",
    "the elements at indexes 1 and 3 have value 3,\n",
    "the elements at indexes 4 and 6 have value 9,\n",
    "the element at index 5 has value 7 and is unpaired.\n",
    "Write a function:\n",
    "\n",
    "def solution(A)\n",
    "\n",
    "that, given an array A consisting of N integers fulfilling the above conditions, returns the value of the unpaired element.\n",
    "\n",
    "For example, given array A such that:\n",
    "\n",
    "  A[0] = 9  A[1] = 3  A[2] = 9\n",
    "  A[3] = 3  A[4] = 9  A[5] = 7\n",
    "  A[6] = 9\n",
    "the function should return 7, as explained in the example above.\n",
    "\n",
    "Write an efficient algorithm for the following assumptions:\n",
    "\n",
    "N is an odd integer within the range [1..1,000,000];\n",
    "each element of array A is an integer within the range [1..1,000,000,000];\n",
    "all but one of the values in A occur an even number of times."
   ]
  },
  {
   "cell_type": "code",
   "execution_count": 23,
   "metadata": {},
   "outputs": [],
   "source": [
    "def solution(A):\n",
    "    #count values\n",
    "    counts = dict() # dictionary to store values\n",
    "    for i in A:\n",
    "        if i not in counts:\n",
    "            counts[i]=1\n",
    "        else:\n",
    "            counts[i]=counts[i]+1\n",
    "    \n",
    "    # valueas that have count = 1\n",
    "    for k, v in counts.items():\n",
    "        if v == 1:\n",
    "            return k\n",
    "\n",
    "    pass"
   ]
  },
  {
   "cell_type": "code",
   "execution_count": 24,
   "metadata": {},
   "outputs": [
    {
     "name": "stdout",
     "output_type": "stream",
     "text": [
      "7\n"
     ]
    }
   ],
   "source": [
    "A = [9, 3, 9, 3, 9, 7, 9]\n",
    "print (solution(A))"
   ]
  },
  {
   "cell_type": "markdown",
   "metadata": {},
   "source": [
    "## Lesson 3: Time complexity\n",
    "What is time complexity??? Here I leave the link of a good post written in [towardsdatascience](https://towardsdatascience.com/understanding-time-complexity-with-python-examples-2bda6e8158a7) by Kelvin Salton do Prado \n",
    "\n",
    "## FrogJmp\n",
    "__Count minimal number of jumps from position X to Y.__\n",
    "\n",
    "A small frog wants to get to the other side of the road. The frog is currently located at position X and wants to get to a position greater than or equal to Y. The small frog always jumps a fixed distance, D.\n",
    "\n",
    "Count the minimal number of jumps that the small frog must perform to reach its target.\n",
    "\n",
    "Write a function:\n",
    "\n",
    "def solution(X, Y, D)\n",
    "\n",
    "that, given three integers X, Y and D, returns the minimal number of jumps from position X to a position equal to or greater than Y.\n",
    "\n",
    "For example, given:\n",
    "\n",
    "  X = 10\n",
    "  Y = 85\n",
    "  D = 30\n",
    "the function should return 3, because the frog will be positioned as follows:\n",
    "\n",
    "after the first jump, at position 10 + 30 = 40\n",
    "after the second jump, at position 10 + 30 + 30 = 70\n",
    "after the third jump, at position 10 + 30 + 30 + 30 = 100\n",
    "Write an efficient algorithm for the following assumptions:\n",
    "\n",
    "X, Y and D are integers within the range [1..1,000,000,000];\n",
    "X ≤ Y."
   ]
  },
  {
   "cell_type": "code",
   "execution_count": 27,
   "metadata": {},
   "outputs": [],
   "source": [
    "def solution(X, Y, D):\n",
    "    import math\n",
    "    # get the distance between points\n",
    "    dist = Y - X\n",
    "    if dist == 1 :\n",
    "        return 1\n",
    "    else:\n",
    "    # divide dist per D \n",
    "    # round the number up\n",
    "        jumps = math.ceil(dist / D)\n",
    "        return jumps\n",
    "   \n",
    "    pass"
   ]
  },
  {
   "cell_type": "code",
   "execution_count": 28,
   "metadata": {},
   "outputs": [
    {
     "data": {
      "text/plain": [
       "3"
      ]
     },
     "execution_count": 28,
     "metadata": {},
     "output_type": "execute_result"
    }
   ],
   "source": [
    "X = 10\n",
    "Y = 85\n",
    "D = 30\n",
    "solution(X, Y, D)"
   ]
  },
  {
   "cell_type": "markdown",
   "metadata": {},
   "source": [
    "## PermMissingElem\n",
    "Find the missing element in a given permutation.\n",
    "An array A consisting of N different integers is given. The array contains integers in the range [1..(N + 1)], which means that exactly one element is missing.\n",
    "\n",
    "Your goal is to find that missing element.\n",
    "\n",
    "Write a function:\n",
    "\n",
    "def solution(A)\n",
    "\n",
    "that, given an array A, returns the value of the missing element.\n",
    "\n",
    "For example, given array A such that:\n",
    "\n",
    "  A[0] = 2\n",
    "  A[1] = 3\n",
    "  A[2] = 1\n",
    "  A[3] = 5\n",
    "  \n",
    "the function should return 4, as it is the missing element.\n",
    "\n",
    "Write an efficient algorithm for the following assumptions:\n",
    "\n",
    "N is an integer within the range [0..100,000];\n",
    "the elements of A are all distinct;\n",
    "each element of array A is an integer within the range [1..(N + 1)].\n",
    "Requires: O(n) time and O(1) space complexity\n",
    "-  O(n): if the input size doubles, the time taken by the algorithm will also approximately double. O(n) is considered linear time complexity.\n",
    "- O(1) space complexity: This indicates that the amount of additional memory space required by the algorithm or operation is constant, regardless of the size of the input."
   ]
  },
  {
   "cell_type": "code",
   "execution_count": 16,
   "metadata": {},
   "outputs": [],
   "source": [
    "#I would do this, but the time complexity of this solution is O(n log n) \n",
    "def solution(A):\n",
    "    # Order the values in the array\n",
    "    A.sort()\n",
    "    # Iterate through the array\n",
    "    for i in range(len(A) - 1):\n",
    "    # Check if the next value is not one greater than the current value\n",
    "        if A[i + 1] != A[i] + 1:\n",
    "        # Return the current value as the missing element\n",
    "            return A[i] + 1\n",
    "\n",
    "    \n",
    "pass"
   ]
  },
  {
   "cell_type": "code",
   "execution_count": 32,
   "metadata": {},
   "outputs": [],
   "source": [
    "#time complexity of this solution is O(n) \n",
    "def solution(A):\n",
    "    N= len(A)\n",
    "    # the range of the values goes from 1 to N + 1. Added another one because the range function does not include the last number. \n",
    "    full_array = range(1, N + 2)\n",
    "    return (sum(full_array) - sum(A))"
   ]
  },
  {
   "cell_type": "code",
   "execution_count": 34,
   "metadata": {},
   "outputs": [
    {
     "data": {
      "text/plain": [
       "4"
      ]
     },
     "execution_count": 34,
     "metadata": {},
     "output_type": "execute_result"
    }
   ],
   "source": [
    "A=[2,3,1,5]\n",
    "solution(A)\n",
    "\n"
   ]
  },
  {
   "cell_type": "markdown",
   "metadata": {},
   "source": [
    "## TapeEquilibrium\n",
    "A non-empty array A consisting of N integers is given. Array A represents numbers on a tape.\n",
    "\n",
    "Any integer P, such that 0 < P < N, splits this tape into two non-empty parts: A[0], A[1], ..., A[P − 1] and A[P], A[P + 1], ..., A[N − 1].\n",
    "\n",
    "The difference between the two parts is the value of: |(A[0] + A[1] + ... + A[P − 1]) − (A[P] + A[P + 1] + ... + A[N − 1])|\n",
    "\n",
    "In other words, it is the absolute difference between the sum of the first part and the sum of the second part.\n",
    "\n",
    "For example, consider array A such that:\n",
    "\n",
    "  A[0] = 3\n",
    "  A[1] = 1\n",
    "  A[2] = 2\n",
    "  A[3] = 4\n",
    "  A[4] = 3\n",
    "We can split this tape in four places:\n",
    "\n",
    "P = 1, difference = |3 − 10| = 7\n",
    "P = 2, difference = |4 − 9| = 5\n",
    "P = 3, difference = |6 − 7| = 1\n",
    "P = 4, difference = |10 − 3| = 7\n",
    "Write a function:\n",
    "\n",
    "class Solution { public int solution(int[] A); }\n",
    "\n",
    "that, given a non-empty array A of N integers, returns the minimal difference that can be achieved.\n",
    "\n",
    "For example, given:\n",
    "\n",
    "  A[0] = 3\n",
    "  A[1] = 1\n",
    "  A[2] = 2\n",
    "  A[3] = 4\n",
    "  A[4] = 3\n",
    "the function should return 1, as explained above.\n",
    "\n",
    "Write an efficient algorithm for the following assumptions:\n",
    "\n",
    "N is an integer within the range [2..100,000];\n",
    "each element of array A is an integer within the range [−1,000..1,000]."
   ]
  },
  {
   "cell_type": "code",
   "execution_count": 53,
   "metadata": {},
   "outputs": [],
   "source": [
    "def solution(A):\n",
    "    N = len(A)\n",
    "    #two parts \n",
    "    p1 = 0\n",
    "    p2 = sum(A)\n",
    "    # create a min difference with a big value. This will update each loop\n",
    "    min_diff = float('inf')\n",
    "\n",
    "    #iterate trhouth the array and calculate the min_diff\n",
    "    for P in range(1, N):\n",
    "        p1 += A[P-1]\n",
    "        p2 -= A[P-1]\n",
    "        diff = (abs(p2-p1))\n",
    "        min_diff = min(diff, min_diff)\n",
    "        \n",
    "\n",
    "    return min_diff\n",
    "\n",
    "    pass"
   ]
  },
  {
   "cell_type": "code",
   "execution_count": 54,
   "metadata": {},
   "outputs": [
    {
     "name": "stdout",
     "output_type": "stream",
     "text": [
      "7\n",
      "7\n",
      "5\n",
      "5\n",
      "1\n",
      "1\n",
      "7\n",
      "1\n"
     ]
    },
    {
     "data": {
      "text/plain": [
       "1"
      ]
     },
     "execution_count": 54,
     "metadata": {},
     "output_type": "execute_result"
    }
   ],
   "source": [
    "A=[3,1,2,4,3]\n",
    "solution(A)"
   ]
  }
 ],
 "metadata": {
  "kernelspec": {
   "display_name": "Python 3",
   "language": "python",
   "name": "python3"
  },
  "language_info": {
   "codemirror_mode": {
    "name": "ipython",
    "version": 3
   },
   "file_extension": ".py",
   "mimetype": "text/x-python",
   "name": "python",
   "nbconvert_exporter": "python",
   "pygments_lexer": "ipython3",
   "version": "3.10.11"
  }
 },
 "nbformat": 4,
 "nbformat_minor": 2
}
